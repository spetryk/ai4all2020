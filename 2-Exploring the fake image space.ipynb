{
 "cells": [
  {
   "cell_type": "markdown",
   "metadata": {},
   "source": [
    "## How to explore the input space to a generator\n",
    "Inspired by [this](https://machinelearningmastery.com/how-to-interpolate-and-perform-vector-arithmetic-with-faces-using-a-generative-adversarial-network/) tutorial by Jason Brownlee.\n",
    "\n",
    "Generators learn to map points in the space of **random noise** to the space of **images**. We call this random-noise-space the \"latent\" space, latent meaning \"hidden\". It's hidden because to us, the noise doesn't have any meaning - it's literally random numbers. It only has meaning to the generator model, which has been trained to create meaning out of these random numbers.\n",
    "\n",
    "\n",
    "So, what does it mean to \"explore\" the latent space? It's all about vector arithmetic. If you have two vectors (or points in space) you can draw a line between them, and find the midpoint.\n",
    "\n",
    "For our generator, those two points in space are two different images. We can \"draw a line\" between the two images in latent space and find the midpoint. What happens if we now pass the midpoint through the generator? We should get the \"average\" of the two images!\n",
    "\n",
    "\n",
    "Let's try it out. First, we'll load up a generator that has already been trained.\n"
   ]
  },
  {
   "cell_type": "code",
   "execution_count": 1,
   "metadata": {},
   "outputs": [],
   "source": [
    "from tools import *\n",
    "import torch\n"
   ]
  },
  {
   "cell_type": "code",
   "execution_count": 2,
   "metadata": {},
   "outputs": [
    {
     "data": {
      "text/plain": [
       "<All keys matched successfully>"
      ]
     },
     "execution_count": 2,
     "metadata": {},
     "output_type": "execute_result"
    }
   ],
   "source": [
    "noise_size = 100\n",
    "generator  = Generator(noise_size)\n",
    "generator_parameters = torch.load('saved_models/pretrained_generator')\n",
    "generator.load_state_dict(generator_parameters['net_state_dict'])\n",
    "\n",
    "\n"
   ]
  },
  {
   "cell_type": "markdown",
   "metadata": {},
   "source": [
    "![vector image](resources/latent-image-example.png)"
   ]
  }
 ],
 "metadata": {
  "kernelspec": {
   "display_name": "Python 3",
   "language": "python",
   "name": "python3"
  },
  "language_info": {
   "codemirror_mode": {
    "name": "ipython",
    "version": 3
   },
   "file_extension": ".py",
   "mimetype": "text/x-python",
   "name": "python",
   "nbconvert_exporter": "python",
   "pygments_lexer": "ipython3",
   "version": "3.7.7"
  }
 },
 "nbformat": 4,
 "nbformat_minor": 4
}
